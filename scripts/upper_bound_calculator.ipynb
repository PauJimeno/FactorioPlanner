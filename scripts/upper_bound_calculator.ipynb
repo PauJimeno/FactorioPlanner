{
 "cells": [
  {
   "cell_type": "code",
   "execution_count": 3,
   "id": "b826dcf3",
   "metadata": {},
   "outputs": [],
   "source": [
    "from z3 import *"
   ]
  },
  {
   "cell_type": "code",
   "execution_count": 13,
   "id": "a7bdfa53",
   "metadata": {},
   "outputs": [
    {
     "data": {
      "text/plain": [
       "<z3.z3.OptimizeObjective at 0x29e16d51ca0>"
      ]
     },
     "execution_count": 13,
     "metadata": {},
     "output_type": "execute_result"
    }
   ],
   "source": [
    "# Declaració del solver\n",
    "s = Optimize()\n",
    "\n",
    "# Input\n",
    "max_assemblers = 9\n",
    "\n",
    "# Variables (exemple de tres receptes)\n",
    "cca = Real(\"CCA\") # copper cable assembler\n",
    "aca = Real(\"ACA\") # advanced circuit assembler\n",
    "eca = Real(\"ECA\") # electronic circuit assembler\n",
    "\n",
    "int_cca = Int(\"INT_CCA\") # copper cable assembler\n",
    "int_aca = Int(\"INT_ACA\") # advanced circuit assembler\n",
    "int_eca = Int(\"INT_ECA\") # electronic circuit assembler\n",
    "\n",
    "s.add(If(ToInt(aca)<aca, int_aca==ToInt(aca) + 1, int_aca==ToInt(aca)))\n",
    "s.add(If(ToInt(cca)<cca, int_cca==ToInt(cca) + 1, int_cca==ToInt(cca)))\n",
    "s.add(If(ToInt(eca)<eca, int_eca==ToInt(eca) + 1, int_eca==ToInt(eca)))\n",
    "\n",
    "# Definir el domini\n",
    "s.add(And(cca>0, cca<=max_assemblers), And(aca>0, aca<=max_assemblers), And(eca>0, eca<=max_assemblers))\n",
    "\n",
    "# No sobrepassar el nombre màxim d'assemblers\n",
    "s.add(int_cca + int_aca + int_eca <= max_assemblers)\n",
    "\n",
    "# Proporcions d'assemblers\n",
    "s.add(cca*240 == (aca*40 + eca*360)) # Copper cable\n",
    "\n",
    "s.add(eca*120 == (aca*20)) # Electronic circuit\n",
    "\n",
    "#Optimització\n",
    "s.maximize(int_aca + aca)"
   ]
  },
  {
   "cell_type": "code",
   "execution_count": 14,
   "id": "bc8c9031",
   "metadata": {},
   "outputs": [
    {
     "name": "stdout",
     "output_type": "stream",
     "text": [
      "[ECA = 5/6,\n",
      " ACA = 5,\n",
      " INT_CCA = 3,\n",
      " CCA = 25/12,\n",
      " INT_ACA = 5,\n",
      " INT_ECA = 1]\n"
     ]
    }
   ],
   "source": [
    "if s.check() == sat:\n",
    "    m = s.model()\n",
    "    print(m)"
   ]
  },
  {
   "cell_type": "code",
   "execution_count": 4,
   "id": "aaadc78f",
   "metadata": {},
   "outputs": [
    {
     "name": "stdout",
     "output_type": "stream",
     "text": [
      "[c = 4, a = 3, b = -14]\n"
     ]
    }
   ],
   "source": [
    "s = Solver()\n",
    "\n",
    "a = Int(\"a\")\n",
    "b = Int(\"b\")\n",
    "c = Int(\"c\")\n",
    "\n",
    "QF_IDL_1 = c<5\n",
    "QF_IDL_2 = a>=3\n",
    "LIA = 5*a+b == c-3\n",
    "\n",
    "s.add(And(QF_IDL_1, QF_IDL_2, LIA))\n",
    "\n",
    "if s.check() == sat:\n",
    "    m = s.model()\n",
    "    print(m)\n"
   ]
  },
  {
   "cell_type": "code",
   "execution_count": null,
   "id": "7de0ffb8",
   "metadata": {},
   "outputs": [],
   "source": []
  }
 ],
 "metadata": {
  "kernelspec": {
   "display_name": "Python 3 (ipykernel)",
   "language": "python",
   "name": "python3"
  },
  "language_info": {
   "codemirror_mode": {
    "name": "ipython",
    "version": 3
   },
   "file_extension": ".py",
   "mimetype": "text/x-python",
   "name": "python",
   "nbconvert_exporter": "python",
   "pygments_lexer": "ipython3",
   "version": "3.9.18"
  }
 },
 "nbformat": 4,
 "nbformat_minor": 5
}
