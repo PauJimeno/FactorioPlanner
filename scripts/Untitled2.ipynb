{
 "cells": [
  {
   "cell_type": "code",
   "execution_count": 1,
   "id": "976cda20",
   "metadata": {},
   "outputs": [],
   "source": [
    "#IMPORT\n",
    "import os\n",
    "import json"
   ]
  },
  {
   "cell_type": "code",
   "execution_count": 2,
   "id": "5c17921f",
   "metadata": {},
   "outputs": [],
   "source": [
    "# READ FUNCTION\n",
    "def read_and_collect_json_files(directory):\n",
    "    data = []\n",
    "    for root, dirs, files in os.walk(directory):\n",
    "        for file in files:\n",
    "            if file == 'instance_to_solve.json':\n",
    "                with open(os.path.join(root, file), 'r') as f:\n",
    "                    data.append(json.load(f))\n",
    "    return data"
   ]
  },
  {
   "cell_type": "code",
   "execution_count": 3,
   "id": "3e7f6001",
   "metadata": {},
   "outputs": [],
   "source": [
    "# WRITE FUNCTION\n",
    "def write_to_json_file(data, output_file):\n",
    "    with open(output_file, 'w') as f:\n",
    "        json.dump(data, f, indent=4)"
   ]
  },
  {
   "cell_type": "code",
   "execution_count": 6,
   "id": "8d73a924",
   "metadata": {},
   "outputs": [],
   "source": [
    "directory = 'E:\\TFG\\solved_instances\\instances_to_solve'  # replace with your directory\n",
    "output_file = 'all_instances.json'  # replace with your output file name\n",
    "data = read_and_collect_json_files(directory)\n",
    "print(len(data))\n",
    "# write_to_json_file(data, output_file)"
   ]
  },
  {
   "cell_type": "code",
   "execution_count": null,
   "id": "8da3b7e6",
   "metadata": {},
   "outputs": [],
   "source": []
  }
 ],
 "metadata": {
  "kernelspec": {
   "display_name": "Python 3 (ipykernel)",
   "language": "python",
   "name": "python3"
  },
  "language_info": {
   "codemirror_mode": {
    "name": "ipython",
    "version": 3
   },
   "file_extension": ".py",
   "mimetype": "text/x-python",
   "name": "python",
   "nbconvert_exporter": "python",
   "pygments_lexer": "ipython3",
   "version": "3.9.18"
  }
 },
 "nbformat": 4,
 "nbformat_minor": 5
}
